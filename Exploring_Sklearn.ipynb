{
  "nbformat": 4,
  "nbformat_minor": 0,
  "metadata": {
    "colab": {
      "name": "Exploring_Sklearn.ipynb",
      "provenance": [],
      "mount_file_id": "1w-EXggpAi0hX59CfpxJk4XgHAPKrCVZM",
      "authorship_tag": "ABX9TyOc/0erfdNCB3Qtj89wZnzi",
      "include_colab_link": true
    },
    "kernelspec": {
      "name": "python3",
      "display_name": "Python 3"
    },
    "language_info": {
      "name": "python"
    }
  },
  "cells": [
    {
      "cell_type": "markdown",
      "metadata": {
        "id": "view-in-github",
        "colab_type": "text"
      },
      "source": [
        "<a href=\"https://colab.research.google.com/github/stac-bot/Machine_learning_projects/blob/main/Exploring_Sklearn.ipynb\" target=\"_parent\"><img src=\"https://colab.research.google.com/assets/colab-badge.svg\" alt=\"Open In Colab\"/></a>"
      ]
    },
    {
      "cell_type": "markdown",
      "source": [
        "creating class to handle data\n",
        "JCI / doing more data scientist way "
      ],
      "metadata": {
        "id": "eVSbBYZcMGW-"
      }
    },
    {
      "cell_type": "code",
      "source": [
        "import random\n",
        "class Sentiment:\n",
        "  NEGATIVE = \"POSITIVE\"\n",
        "  NEUTRAL = \"NEUTRAL\"\n",
        "  POSITIVE = \"POSITIVE\"\n",
        "#data class for data we are loading it\n",
        "class Review:\n",
        "  def __init__(self, text, score):\n",
        "    self.text = text\n",
        "    self.score = score #number of star ratings\n",
        "    self.sentiment = self.get_sentiment()\n",
        "\n",
        "  def get_sentiment(self):\n",
        "    if self.score <=2:\n",
        "      return Sentiment.NEGATIVE\n",
        "    elif self.score ==3:\n",
        "      return Sentiment.NEUTRAL\n",
        "    else: #score of 4 or 5\n",
        "      return Sentiment.POSITIVE\n",
        "\n",
        "class ReviewContainer:\n",
        "  def __init__(self, reviews):\n",
        "    self.reviews = reviews\n",
        "\n",
        "  def get_text(self):\n",
        "    return [x.text for x in training]\n",
        "\n",
        "  def get_sentiment(self):\n",
        "    return [x.sentiment for x in training]\n",
        "\n",
        "\n",
        "  def evenly_distribute(self):\n",
        "    negative = list(filter(lambda x:  x.sentiment == Sentiment.NEGATIVE, self.reviews))\n",
        "    positive = list(filter(lambda x:  x.sentiment == Sentiment.POSITIVE, self.reviews))\n",
        "    #when we filtere something it does not convert back to the list to do that we need \n",
        "    #to convert it back to the list\n",
        "    #you can shrink the data if you want \n",
        "    # here we no need to shrink since the positive and negative are evenly distributed\n",
        "    #/////here is how you can do it\n",
        "    #positive_shrunk = positive[:len(negative)]\n",
        "    #self.reviews = negative + positive_shrunk\n",
        "    #random.shuffle(self.reviews)\n",
        "    #print(negative[0].text)\n",
        "    #print(len(negative))\n",
        "    #print(len(positive))"
      ],
      "metadata": {
        "id": "_7VZPUNpFdgx"
      },
      "execution_count": 140,
      "outputs": []
    },
    {
      "cell_type": "code",
      "source": [
        "#rev = ['ashu',5]\n",
        "#Review(rev[0],rev[1])\n",
        "#li = []\n",
        "#li.append((Review(rev[0],rev[1])))\n",
        "#li[0].text"
      ],
      "metadata": {
        "id": "0KDzY4IGHCsR"
      },
      "execution_count": 58,
      "outputs": []
    },
    {
      "cell_type": "markdown",
      "source": [
        "Load Data"
      ],
      "metadata": {
        "id": "Ccv-cACPL1IY"
      }
    },
    {
      "cell_type": "code",
      "execution_count": 141,
      "metadata": {
        "colab": {
          "base_uri": "https://localhost:8080/",
          "height": 53
        },
        "id": "meykixMS959l",
        "outputId": "d9887eb4-9f03-4b69-f447-fe4ab876f615"
      },
      "outputs": [
        {
          "output_type": "execute_result",
          "data": {
            "application/vnd.google.colaboratory.intrinsic+json": {
              "type": "string"
            },
            "text/plain": [
              "'Love the book, great story line, keeps you entertained.for a first novel from this author she did a great job,  Would definitely recommend!'"
            ]
          },
          "metadata": {},
          "execution_count": 141
        }
      ],
      "source": [
        "#by keith galli\n",
        "import json\n",
        "file_name = '/content/Books_small.json'\n",
        "reviews =[]\n",
        "with open(file_name) as f:\n",
        "  for line in f:\n",
        "    #print(line['reviewText'])\n",
        "    review = json.loads(line)\n",
        "    #print(review['reviewText'])\n",
        "    #print(review['overall'])\n",
        "    reviews.append(Review(review['reviewText'], review['overall']))\n",
        "#reviews[5] chec\n",
        "reviews[5].text\n"
      ]
    },
    {
      "cell_type": "markdown",
      "source": [
        "Prep Data"
      ],
      "metadata": {
        "id": "zChS_UsXLxBi"
      }
    },
    {
      "cell_type": "code",
      "source": [
        "from sklearn.model_selection import train_test_split\n",
        "\n",
        "\n",
        "training, test = train_test_split(reviews, test_size = 0.33, random_state =42)\n",
        "\n",
        "train_container = ReviewContainer(training)\n",
        "test_container = ReviewContainer(test)\n",
        "#count.evenly_distributed()\n",
        "#en(count.reviews)"
      ],
      "metadata": {
        "id": "k_8ZhKEgLup8"
      },
      "execution_count": 142,
      "outputs": []
    },
    {
      "cell_type": "code",
      "source": [
        "train_container.evenly_distribute()\n",
        "train_x = train_container.get_text()\n",
        "\n",
        "train_y = train_container.get_sentiment()\n",
        "test_container.evenly_distribute()\n",
        "test_x = test_container.get_text()\n",
        "test_y = test_container.get_sentiment()\n",
        "\n",
        "\n",
        "#train_y.count(Sentiment.POSITIVE)\n",
        "#train_y.count(Sentiment.NEGATIVE)"
      ],
      "metadata": {
        "id": "67_aayNgQEdp"
      },
      "execution_count": 143,
      "outputs": []
    },
    {
      "cell_type": "code",
      "source": [
        "print(training[0].score)\n",
        "#len(test), len(training) , len(reviews)"
      ],
      "metadata": {
        "colab": {
          "base_uri": "https://localhost:8080/"
        },
        "id": "Uwmafzq5PY75",
        "outputId": "1ff62aa8-1658-4723-cf6f-c72862b827eb"
      },
      "execution_count": 122,
      "outputs": [
        {
          "output_type": "stream",
          "name": "stdout",
          "text": [
            "5.0\n"
          ]
        }
      ]
    },
    {
      "cell_type": "markdown",
      "source": [
        "Bags of words on working with text data"
      ],
      "metadata": {
        "id": "oTDaY_a2Qv6F"
      }
    },
    {
      "cell_type": "code",
      "source": [
        "#bag of words since machine learnig modules/models loves matrecis and numerical data and \n",
        "#into quantitative vectors\n",
        "#dictionary of words or tokens\n",
        "\n",
        "from sklearn.feature_extraction.text import CountVectorizer\n",
        "\n",
        "vectorizer  = CountVectorizer()\n",
        "train_x_vectors = vectorizer.fit_transform(train_x)\n",
        "\n",
        "test_x_vectors = vectorizer.transform(test_x)\n",
        "#$helpful fit and tranform in on fit_transform\n",
        "#vectorizer.fit(train_x)\n",
        "#train_x_vectorizer = vectorizer.transform(train_x)\n",
        "\n",
        "print(train_x[0])\n",
        "print(train_x_vectors[0].toarray())\n",
        "\n",
        "#now our x_vector and y_train is ready so use classifier\n",
        "\n"
      ],
      "metadata": {
        "colab": {
          "base_uri": "https://localhost:8080/"
        },
        "id": "l0a3Rlr5CTRq",
        "outputId": "4b433354-274c-482f-cec4-27883f4007f9"
      },
      "execution_count": 144,
      "outputs": [
        {
          "output_type": "stream",
          "name": "stdout",
          "text": [
            "Vivid characters and descriptions. The author has created a tale that grabs your attention and I couldn't put it down.\n",
            "[[0 0 0 ... 0 0 0]]\n"
          ]
        }
      ]
    },
    {
      "cell_type": "markdown",
      "source": [
        "Classifications choosing right model\n",
        "*do your* **research** *before you chooose!!! do som google search or see some youtube videos*"
      ],
      "metadata": {
        "id": "-vP1RtCIlGXt"
      }
    },
    {
      "cell_type": "markdown",
      "source": [
        "linear SVM"
      ],
      "metadata": {
        "id": "bQHxqQUW69_g"
      }
    },
    {
      "cell_type": "code",
      "source": [
        "from sklearn.svm import SVC\n",
        "\n",
        "clf_svm = SVC(kernel ='linear')\n",
        "clf_svm.fit(train_x_vectors, train_y)\n",
        " \n",
        "\n",
        "clf_svm.predict(test_x_vectors[80])"
      ],
      "metadata": {
        "colab": {
          "base_uri": "https://localhost:8080/"
        },
        "id": "tdTpxdcejlvZ",
        "outputId": "295b9abb-90fe-4292-9e38-da72ebb27822"
      },
      "execution_count": 145,
      "outputs": [
        {
          "output_type": "execute_result",
          "data": {
            "text/plain": [
              "array(['POSITIVE'], dtype='<U8')"
            ]
          },
          "metadata": {},
          "execution_count": 145
        }
      ]
    },
    {
      "cell_type": "markdown",
      "source": [
        ""
      ],
      "metadata": {
        "id": "J24-i1QJB9Vo"
      }
    },
    {
      "cell_type": "markdown",
      "source": [
        "decision Tree"
      ],
      "metadata": {
        "id": "bI8CivxJB43_"
      }
    },
    {
      "cell_type": "code",
      "source": [
        "from sklearn.tree import DecisionTreeClassifier\n",
        "clf_dec = DecisionTreeClassifier()\n",
        "clf_dec.fit(train_x_vectors, train_y)\n",
        "\n",
        "clf_dec.predict(test_x_vectors[0])"
      ],
      "metadata": {
        "colab": {
          "base_uri": "https://localhost:8080/"
        },
        "id": "qi_LFM8cCCJQ",
        "outputId": "6b50f275-65d4-4ba4-f5a1-e7b2874884d0"
      },
      "execution_count": 146,
      "outputs": [
        {
          "output_type": "execute_result",
          "data": {
            "text/plain": [
              "array(['POSITIVE'], dtype='<U8')"
            ]
          },
          "metadata": {},
          "execution_count": 146
        }
      ]
    },
    {
      "cell_type": "markdown",
      "source": [
        "Naive Bayes"
      ],
      "metadata": {
        "id": "MtECU9RfCnIh"
      }
    },
    {
      "cell_type": "code",
      "source": [
        "from sklearn.naive_bayes import GaussianNB\n",
        "clf_gnb = GaussianNB()\n",
        "clf_gnb.fit(train_x_vectors.toarray(), train_y)\n",
        "\n",
        "clf_gnb.predict(test_x_vectors[0].toarray())"
      ],
      "metadata": {
        "colab": {
          "base_uri": "https://localhost:8080/"
        },
        "id": "ILnC_wQLCpsi",
        "outputId": "b21b5570-bc92-4e52-f10f-f4a7f32ab08a"
      },
      "execution_count": 147,
      "outputs": [
        {
          "output_type": "execute_result",
          "data": {
            "text/plain": [
              "array(['POSITIVE'], dtype='<U8')"
            ]
          },
          "metadata": {},
          "execution_count": 147
        }
      ]
    },
    {
      "cell_type": "markdown",
      "source": [
        "Logistic Regression"
      ],
      "metadata": {
        "id": "XrRPFN9lB-0L"
      }
    },
    {
      "cell_type": "code",
      "source": [
        "from sklearn.linear_model import LogisticRegression\n",
        "clf_log = LogisticRegression()\n",
        "clf_log.fit(train_x_vectors, train_y)\n",
        "\n",
        "clf_log.predict(test_x_vectors[0])\n"
      ],
      "metadata": {
        "colab": {
          "base_uri": "https://localhost:8080/"
        },
        "id": "3DOxZGeQ7UhV",
        "outputId": "fdbc2438-38a6-4f0b-e4f3-5251aaaffb48"
      },
      "execution_count": 148,
      "outputs": [
        {
          "output_type": "execute_result",
          "data": {
            "text/plain": [
              "array(['POSITIVE'], dtype='<U8')"
            ]
          },
          "metadata": {},
          "execution_count": 148
        }
      ]
    },
    {
      "cell_type": "markdown",
      "source": [
        "Evalutaion *doing little comphrehension*"
      ],
      "metadata": {
        "id": "VYP-eBFFEsFQ"
      }
    },
    {
      "cell_type": "code",
      "source": [
        "#Mean accuracy on test labels using .scores\n",
        "print(clf_svm.score(test_x_vectors, test_y))\n",
        "print(clf_dec.score(test_x_vectors, test_y))\n",
        "print(clf_gnb.score(test_x_vectors.toarray(), test_y))\n",
        "print(clf_log.score(test_x_vectors, test_y))"
      ],
      "metadata": {
        "colab": {
          "base_uri": "https://localhost:8080/"
        },
        "id": "wWTnPHdGEiPe",
        "outputId": "1e2ea0bc-1b12-4bfa-f892-e2eccde00c3a"
      },
      "execution_count": 149,
      "outputs": [
        {
          "output_type": "stream",
          "name": "stdout",
          "text": [
            "1.0\n",
            "1.0\n",
            "0.9791044776119403\n",
            "0.9985074626865672\n"
          ]
        }
      ]
    },
    {
      "cell_type": "markdown",
      "source": [
        "F1score\n",
        "\n",
        "\n"
      ],
      "metadata": {
        "id": "KQBglnPxGOaE"
      }
    },
    {
      "cell_type": "code",
      "source": [
        "from sklearn.metrics import f1_score\n",
        "print(f1_score(test_y, clf_svm.predict(test_x_vectors), average =None, labels = [Sentiment.POSITIVE, Sentiment.NEUTRAL, Sentiment.NEGATIVE]))\n",
        "print(f1_score(test_y, clf_dec.predict(test_x_vectors), average =None, labels = [Sentiment.POSITIVE, Sentiment.NEUTRAL, Sentiment.NEGATIVE]))\n",
        "print(f1_score(test_y, clf_gnb.predict(test_x_vectors.toarray()), average =None, labels = [Sentiment.POSITIVE, Sentiment.NEUTRAL, Sentiment.NEGATIVE]))\n",
        "print(f1_score(test_y, clf_log.predict(test_x_vectors), average =None, labels = [Sentiment.POSITIVE, Sentiment.NEUTRAL, Sentiment.NEGATIVE]))\n",
        "\n",
        "\n"
      ],
      "metadata": {
        "colab": {
          "base_uri": "https://localhost:8080/"
        },
        "id": "k8HoFF2dFD84",
        "outputId": "12571359-d44c-41a6-d8ba-155b840c3b83"
      },
      "execution_count": 150,
      "outputs": [
        {
          "output_type": "stream",
          "name": "stdout",
          "text": [
            "[1. 1. 1.]\n",
            "[1. 1. 1.]\n",
            "[0.98817568 0.91025641 0.98817568]\n",
            "[0.99916597 0.9929078  0.99916597]\n"
          ]
        }
      ]
    },
    {
      "cell_type": "code",
      "source": [
        "#model is biased OR unbiased\n",
        "train_y.count(Sentiment.POSITIVE), train_y.count(Sentiment.NEGATIVE)"
      ],
      "metadata": {
        "colab": {
          "base_uri": "https://localhost:8080/"
        },
        "id": "TDV_YnbLG00p",
        "outputId": "a76dc4c8-3eba-4185-ee23-bcc6574f9d28"
      },
      "execution_count": 100,
      "outputs": [
        {
          "output_type": "execute_result",
          "data": {
            "text/plain": [
              "(599, 599)"
            ]
          },
          "metadata": {},
          "execution_count": 100
        }
      ]
    },
    {
      "cell_type": "markdown",
      "source": [
        "evalut"
      ],
      "metadata": {
        "id": "jjrmJZpYSmCx"
      }
    },
    {
      "cell_type": "code",
      "source": [
        "test_set = [\"not great\",\"I thoughly enjoyed this, 5 stars\", \"bad book do not buy\", \"horrible waste of time\"]\n",
        "new_test = vectorizer.transform(test_set)\n",
        "\n",
        "clf_svm.predict(new_test)"
      ],
      "metadata": {
        "colab": {
          "base_uri": "https://localhost:8080/"
        },
        "id": "LUPByvv3ILDG",
        "outputId": "97aa2223-9e6c-4c2c-bc4e-249d1eea2472"
      },
      "execution_count": 135,
      "outputs": [
        {
          "output_type": "execute_result",
          "data": {
            "text/plain": [
              "array(['POSITIVE', 'POSITIVE', 'POSITIVE', 'POSITIVE'], dtype='<U8')"
            ]
          },
          "metadata": {},
          "execution_count": 135
        }
      ]
    },
    {
      "cell_type": "markdown",
      "source": [
        "Tuning our model (with grid search)"
      ],
      "metadata": {
        "id": "xwOzsk-nsR5s"
      }
    },
    {
      "cell_type": "code",
      "source": [
        "import sklearn\n",
        "from sklearn.model_selection import GridSearchCV\n",
        "\n",
        "parameter = {'kernel':('linear','rbf'), 'C':(1,4,8,16,32)}\n",
        "\n",
        "svc = sklearn.svm.SVC()\n",
        "clf = GridSearchCV(svc, parameter , cv = 5)\n",
        "clf.fit(train_x_vectors, train_y)"
      ],
      "metadata": {
        "colab": {
          "base_uri": "https://localhost:8080/"
        },
        "id": "v5d87m2cInCA",
        "outputId": "01aaf1f1-2bc1-4f6f-a37e-b6bbe4772814"
      },
      "execution_count": 155,
      "outputs": [
        {
          "output_type": "execute_result",
          "data": {
            "text/plain": [
              "GridSearchCV(cv=5, estimator=SVC(),\n",
              "             param_grid={'C': (1, 4, 8, 16, 32), 'kernel': ('linear', 'rbf')})"
            ]
          },
          "metadata": {},
          "execution_count": 155
        }
      ]
    },
    {
      "cell_type": "code",
      "source": [
        "print(clf.score(test_x_vectors,test_y))"
      ],
      "metadata": {
        "colab": {
          "base_uri": "https://localhost:8080/"
        },
        "id": "fo9EZ7Vcta7a",
        "outputId": "3bdb84c0-2676-400f-b66b-a168b86f037b"
      },
      "execution_count": 156,
      "outputs": [
        {
          "output_type": "stream",
          "name": "stdout",
          "text": [
            "0.908955223880597\n"
          ]
        }
      ]
    },
    {
      "cell_type": "code",
      "source": [
        "#good! good\n",
        "#striping \n",
        "#state of Art "
      ],
      "metadata": {
        "id": "qliQc3Q8ufXH"
      },
      "execution_count": null,
      "outputs": []
    },
    {
      "cell_type": "markdown",
      "source": [
        "Saving Model"
      ],
      "metadata": {
        "id": "yTZ6icK9uYnr"
      }
    },
    {
      "cell_type": "code",
      "source": [
        "import pickle\n",
        "\n",
        "with open('/content/Machine_learning/Sentiment_classifier.pkl', 'wb') as f:\n",
        "  pickle.dump(clf,f) #without clf define i can run whichever model i want"
      ],
      "metadata": {
        "id": "ZRxbaD54uJ23"
      },
      "execution_count": 161,
      "outputs": []
    },
    {
      "cell_type": "markdown",
      "source": [
        "Load Model"
      ],
      "metadata": {
        "id": "NXIzg2umvIKx"
      }
    },
    {
      "cell_type": "code",
      "source": [
        "with open('/content/Machine_learning/Sentiment_classifier.pkl', 'rb') as f:\n",
        "  loaded_clf = pickle.load(f)"
      ],
      "metadata": {
        "id": "CxEE0PtNuqpd"
      },
      "execution_count": 163,
      "outputs": []
    },
    {
      "cell_type": "code",
      "source": [
        "print(test_x[0])\n",
        "loaded_clf.predict(test_x_vectors[0])"
      ],
      "metadata": {
        "colab": {
          "base_uri": "https://localhost:8080/"
        },
        "id": "AzXnpybSwOyS",
        "outputId": "91b37914-fb32-4f69-ddb9-1bbbc273989a"
      },
      "execution_count": 165,
      "outputs": [
        {
          "output_type": "stream",
          "name": "stdout",
          "text": [
            "Vivid characters and descriptions. The author has created a tale that grabs your attention and I couldn't put it down.\n"
          ]
        },
        {
          "output_type": "execute_result",
          "data": {
            "text/plain": [
              "array(['POSITIVE'], dtype='<U8')"
            ]
          },
          "metadata": {},
          "execution_count": 165
        }
      ]
    },
    {
      "cell_type": "code",
      "source": [
        ""
      ],
      "metadata": {
        "id": "5IejGLiXwfDT"
      },
      "execution_count": null,
      "outputs": []
    }
  ]
}